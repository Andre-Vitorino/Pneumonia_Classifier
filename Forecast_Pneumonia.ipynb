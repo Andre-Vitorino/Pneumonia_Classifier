{
 "cells": [
  {
   "cell_type": "code",
   "execution_count": 1,
   "metadata": {
    "ExecuteTime": {
     "end_time": "2020-10-17T19:23:35.442989Z",
     "start_time": "2020-10-17T19:23:33.406181Z"
    }
   },
   "outputs": [],
   "source": [
    "from keras.models import Sequential\n",
    "from keras.layers import Conv2D, Flatten, Dense, Dropout\n",
    "from keras.layers.normalization import BatchNormalization\n",
    "from keras.preprocessing.image import ImageDataGenerator\n",
    "from keras.layers import MaxPooling2D\n",
    "from keras_preprocessing import image\n",
    "import numpy as np"
   ]
  },
  {
   "cell_type": "code",
   "execution_count": 4,
   "metadata": {
    "ExecuteTime": {
     "end_time": "2020-10-02T15:40:37.944963Z",
     "start_time": "2020-10-02T15:40:37.799444Z"
    }
   },
   "outputs": [],
   "source": [
    "classifier = Sequential()\n",
    "classifier.add(Conv2D(64, (3,3), input_shape= (100, 100, 3), activation='relu'))\n",
    "classifier.add(BatchNormalization())\n",
    "classifier.add(MaxPooling2D(pool_size=(2,2)))\n",
    "\n",
    "classifier.add(Conv2D(64, (3,3), input_shape= (100, 100, 3), activation='relu'))\n",
    "classifier.add(BatchNormalization())\n",
    "classifier.add(MaxPooling2D(pool_size=(2,2)))\n",
    "\n",
    "classifier.add(Flatten())\n",
    "\n",
    "classifier.add(Dense(units=128, activation = 'relu'))\n",
    "classifier.add(Dropout(0.2))\n",
    "classifier.add(Dense(units=128, activation= 'relu'))\n",
    "classifier.add(Dropout(0.2))\n",
    "classifier.add(Dense(units=1, activation='sigmoid'))\n",
    "\n",
    "classifier.compile(optimizer='adam', loss='binary_crossentropy', metrics=['accuracy'])"
   ]
  },
  {
   "cell_type": "code",
   "execution_count": 9,
   "metadata": {
    "ExecuteTime": {
     "end_time": "2020-10-02T15:40:53.241025Z",
     "start_time": "2020-10-02T15:40:53.236867Z"
    }
   },
   "outputs": [],
   "source": [
    "training_generator = ImageDataGenerator(rescale=1./255, rotation_range=7, horizontal_flip=True, \n",
    "                                        shear_range=0.2, height_shift_range=0.07, zoom_range=0.2)\n",
    "\n",
    "\n",
    "\n",
    "test_generator = ImageDataGenerator(rescale=1./255)"
   ]
  },
  {
   "cell_type": "code",
   "execution_count": 10,
   "metadata": {
    "ExecuteTime": {
     "end_time": "2020-10-02T15:40:54.701944Z",
     "start_time": "2020-10-02T15:40:54.524191Z"
    }
   },
   "outputs": [
    {
     "name": "stdout",
     "output_type": "stream",
     "text": [
      "Found 5216 images belonging to 2 classes.\n"
     ]
    }
   ],
   "source": [
    "training_base= training_generator.flow_from_directory('chest_xray/train',target_size=(100,100),batch_size=1, \n",
    "                                                      class_mode='binary')"
   ]
  },
  {
   "cell_type": "code",
   "execution_count": 11,
   "metadata": {
    "ExecuteTime": {
     "end_time": "2020-10-02T15:40:56.706422Z",
     "start_time": "2020-10-02T15:40:56.671810Z"
    }
   },
   "outputs": [
    {
     "name": "stdout",
     "output_type": "stream",
     "text": [
      "Found 624 images belonging to 2 classes.\n"
     ]
    }
   ],
   "source": [
    "test_base = test_generator.flow_from_directory('chest_xray/test', target_size=(100, 100),batch_size=1, \n",
    "                                               class_mode='binary')\n",
    "\n"
   ]
  },
  {
   "cell_type": "code",
   "execution_count": 12,
   "metadata": {
    "ExecuteTime": {
     "end_time": "2020-10-02T19:03:18.826359Z",
     "start_time": "2020-10-02T15:41:07.148231Z"
    }
   },
   "outputs": [
    {
     "name": "stdout",
     "output_type": "stream",
     "text": [
      "WARNING:tensorflow:From <ipython-input-12-b33f3315ae27>:1: Model.fit_generator (from tensorflow.python.keras.engine.training) is deprecated and will be removed in a future version.\n",
      "Instructions for updating:\n",
      "Please use Model.fit, which supports generators.\n",
      "Epoch 1/15\n",
      "5216/5216 [==============================] - 767s 147ms/step - loss: 1.2163 - accuracy: 0.7464 - val_loss: 0.5637 - val_accuracy: 0.6218\n",
      "Epoch 2/15\n",
      "5216/5216 [==============================] - 760s 146ms/step - loss: 0.5062 - accuracy: 0.8020 - val_loss: 1.4277 - val_accuracy: 0.6651\n",
      "Epoch 3/15\n",
      "5216/5216 [==============================] - 744s 143ms/step - loss: 0.3491 - accuracy: 0.8683 - val_loss: 2.3454 - val_accuracy: 0.8077\n",
      "Epoch 4/15\n",
      "5216/5216 [==============================] - 788s 151ms/step - loss: 0.3046 - accuracy: 0.8938 - val_loss: 0.3639 - val_accuracy: 0.8718\n",
      "Epoch 5/15\n",
      "5216/5216 [==============================] - 883s 169ms/step - loss: 0.2710 - accuracy: 0.9009 - val_loss: 0.4959 - val_accuracy: 0.8814\n",
      "Epoch 6/15\n",
      "5216/5216 [==============================] - 821s 157ms/step - loss: 0.2250 - accuracy: 0.9164 - val_loss: 0.3556 - val_accuracy: 0.8846\n",
      "Epoch 7/15\n",
      "5216/5216 [==============================] - 945s 181ms/step - loss: 0.2224 - accuracy: 0.9231 - val_loss: 0.7654 - val_accuracy: 0.8301\n",
      "Epoch 8/15\n",
      "5216/5216 [==============================] - 999s 192ms/step - loss: 0.2185 - accuracy: 0.9176 - val_loss: 0.5174 - val_accuracy: 0.8686\n",
      "Epoch 9/15\n",
      "5216/5216 [==============================] - 769s 147ms/step - loss: 0.2094 - accuracy: 0.9266 - val_loss: 0.8529 - val_accuracy: 0.8173\n",
      "Epoch 10/15\n",
      "5216/5216 [==============================] - 749s 144ms/step - loss: 0.2051 - accuracy: 0.9277 - val_loss: 1.0495 - val_accuracy: 0.7997\n",
      "Epoch 11/15\n",
      "5216/5216 [==============================] - 778s 149ms/step - loss: 0.1988 - accuracy: 0.9300 - val_loss: 1.0820 - val_accuracy: 0.8462\n",
      "Epoch 12/15\n",
      "5216/5216 [==============================] - 775s 149ms/step - loss: 0.1937 - accuracy: 0.9340 - val_loss: 0.3540 - val_accuracy: 0.8830\n",
      "Epoch 13/15\n",
      "5216/5216 [==============================] - 774s 148ms/step - loss: 0.1833 - accuracy: 0.9344 - val_loss: 0.5121 - val_accuracy: 0.8782\n",
      "Epoch 14/15\n",
      "5216/5216 [==============================] - 781s 150ms/step - loss: 0.1870 - accuracy: 0.9306 - val_loss: 1.3793 - val_accuracy: 0.8670\n",
      "Epoch 15/15\n",
      "5216/5216 [==============================] - 794s 152ms/step - loss: 0.1978 - accuracy: 0.9296 - val_loss: 1.9205 - val_accuracy: 0.8734\n"
     ]
    },
    {
     "data": {
      "text/plain": [
       "<tensorflow.python.keras.callbacks.History at 0x7f8ca449d7f0>"
      ]
     },
     "execution_count": 12,
     "metadata": {},
     "output_type": "execute_result"
    }
   ],
   "source": [
    "classifier.fit_generator(training_base,steps_per_epoch=5216/1, epochs=15, validation_data= test_base,\n",
    "                         validation_steps=624/1)"
   ]
  },
  {
   "cell_type": "code",
   "execution_count": 20,
   "metadata": {
    "ExecuteTime": {
     "end_time": "2020-10-02T19:59:19.395319Z",
     "start_time": "2020-10-02T19:59:17.585662Z"
    },
    "scrolled": true
   },
   "outputs": [
    {
     "name": "stdout",
     "output_type": "stream",
     "text": [
      "WARNING:tensorflow:From /home/andre/Projects/venv/lib/python3.8/site-packages/tensorflow/python/training/tracking/tracking.py:111: Model.state_updates (from tensorflow.python.keras.engine.training) is deprecated and will be removed in a future version.\n",
      "Instructions for updating:\n",
      "This property should not be used in TensorFlow 2.0, as updates are applied automatically.\n",
      "WARNING:tensorflow:From /home/andre/Projects/venv/lib/python3.8/site-packages/tensorflow/python/training/tracking/tracking.py:111: Layer.updates (from tensorflow.python.keras.engine.base_layer) is deprecated and will be removed in a future version.\n",
      "Instructions for updating:\n",
      "This property should not be used in TensorFlow 2.0, as updates are applied automatically.\n",
      "INFO:tensorflow:Assets written to: /home/andre/Projects/TensorFlow/model/model_classifier/assets\n"
     ]
    }
   ],
   "source": [
    "model_saved = classifier.save('/home/andre/Projects/TensorFlow/model/model_classifier')"
   ]
  },
  {
   "cell_type": "code",
   "execution_count": 2,
   "metadata": {
    "ExecuteTime": {
     "end_time": "2020-10-17T19:24:47.811815Z",
     "start_time": "2020-10-17T19:24:47.799507Z"
    }
   },
   "outputs": [],
   "source": [
    "from keras.models import load_model"
   ]
  },
  {
   "cell_type": "code",
   "execution_count": 3,
   "metadata": {
    "ExecuteTime": {
     "end_time": "2020-10-17T19:24:50.647359Z",
     "start_time": "2020-10-17T19:24:49.483356Z"
    }
   },
   "outputs": [],
   "source": [
    "test = load_model('/home/andre/Projects/TensorFlow/model/model_classifier')"
   ]
  },
  {
   "cell_type": "code",
   "execution_count": 8,
   "metadata": {
    "ExecuteTime": {
     "end_time": "2020-10-17T19:26:12.309243Z",
     "start_time": "2020-10-17T19:26:12.300594Z"
    }
   },
   "outputs": [],
   "source": [
    "def classify_image(path_image):\n",
    "    from keras_preprocessing import image\n",
    "    import numpy as np\n",
    "    test_image = image.load_img(path_image, target_size=(100, 100))\n",
    "    test_image = image.img_to_array(test_image)\n",
    "    test_image /= 255\n",
    "    test_image = np.expand_dims(test_image, axis=0)   \n",
    "    \n",
    "    prediction = test.predict(test_image)\n",
    "    prediction1 = prediction[0][0] * 100\n",
    "\n",
    "    if prediction > 0.98:\n",
    "        print('Pneumonia')\n",
    "    else: \n",
    "        print('Normal X ray')"
   ]
  },
  {
   "cell_type": "code",
   "execution_count": 9,
   "metadata": {
    "ExecuteTime": {
     "end_time": "2020-10-17T19:26:13.435612Z",
     "start_time": "2020-10-17T19:26:13.276764Z"
    }
   },
   "outputs": [
    {
     "name": "stdout",
     "output_type": "stream",
     "text": [
      "Pneumonia\n"
     ]
    }
   ],
   "source": [
    "image = classify_image('chest_xray/val/validation/pneumonia_covid.jpeg')\n",
    "image"
   ]
  },
  {
   "cell_type": "code",
   "execution_count": 10,
   "metadata": {
    "ExecuteTime": {
     "end_time": "2020-10-17T19:26:14.927053Z",
     "start_time": "2020-10-17T19:26:14.808224Z"
    }
   },
   "outputs": [
    {
     "name": "stdout",
     "output_type": "stream",
     "text": [
      "Normal X ray\n"
     ]
    }
   ],
   "source": [
    "image = classify_image('chest_xray/val/NORMAL/NORMAL2-IM-1436-0001.jpeg')\n",
    "image"
   ]
  },
  {
   "cell_type": "code",
   "execution_count": 11,
   "metadata": {
    "ExecuteTime": {
     "end_time": "2020-10-17T19:26:17.153646Z",
     "start_time": "2020-10-17T19:26:17.027268Z"
    }
   },
   "outputs": [
    {
     "name": "stdout",
     "output_type": "stream",
     "text": [
      "Pneumonia\n"
     ]
    }
   ],
   "source": [
    "image = classify_image('chest_xray/val/PNEUMONIA/person1950_bacteria_4881.jpeg')\n",
    "image"
   ]
  }
 ],
 "metadata": {
  "hide_input": false,
  "kernelspec": {
   "display_name": "Python 3",
   "language": "python",
   "name": "python3"
  },
  "language_info": {
   "codemirror_mode": {
    "name": "ipython",
    "version": 3
   },
   "file_extension": ".py",
   "mimetype": "text/x-python",
   "name": "python",
   "nbconvert_exporter": "python",
   "pygments_lexer": "ipython3",
   "version": "3.8.5"
  }
 },
 "nbformat": 4,
 "nbformat_minor": 4
}
